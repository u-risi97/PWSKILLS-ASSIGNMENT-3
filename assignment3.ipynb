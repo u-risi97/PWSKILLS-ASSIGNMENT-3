{
 "cells": [
  {
   "cell_type": "code",
   "execution_count": 2,
   "id": "4fc3fd20-2762-4759-83f2-f9d460c46f8e",
   "metadata": {},
   "outputs": [
    {
     "data": {
      "text/plain": [
       "\"Q1. Explain with an example each when to use a for loop and a while loop?\\nAns: For loops are used when you have a known number of iterations or when you want to iterate through a sequence\\n(list, tuple, string, etc.) to perform an action for each item in the sequence.\\n\\nExample:\\n\\n\\n# print the numbers 0 to 9\\nfor i in range(10):\\n    print(i)\\n\\nWhile loops are used when you want to keep executing a block of code as long asa certain condition is met.\\n\\nExample:\\n\\n\\n# print the numbers 0 to 9\\ni = 0\\nwhile i < 10:\\n    print(i)\\n    i += 1\\n\\nIt is important to keep in mind that while loops can lead to infinite loops if the termination condition\\nis never met, so it's crucial to make sure that the condition eventually becomes false.\""
      ]
     },
     "execution_count": 2,
     "metadata": {},
     "output_type": "execute_result"
    }
   ],
   "source": [
    "\n",
    "#Ans: For loops are used when you have a known number of iterations or when you want to iterate through a sequence\n",
    "#(list, tuple, string, etc.) to perform an action for each item in the sequence.\n",
    "\n",
    "#Example:\n",
    "\n",
    "\n",
    "# print the numbers 0 to 9\n",
    "for i in range(10):\n",
    "    print(i)\n",
    "\n",
    "#While loops are used when you want to keep executing a block of code as long asa certain condition is met.\n",
    "\n",
    "#Example:\n",
    "\n",
    "\n",
    "# print the numbers 0 to 9\n",
    "i = 0\n",
    "while i < 10:\n",
    "    print(i)\n",
    "    i += 1\n",
    "\n",
    "#It is important to keep in mind that while loops can lead to infinite loops if the termination condition\n",
    "#is never met, so it's crucial to make sure that the condition eventually becomes false."
   ]
  },
  {
   "cell_type": "code",
   "execution_count": 4,
   "id": "88e6d0d5-faa2-4e38-897c-0ebf46ab5cf8",
   "metadata": {},
   "outputs": [
    {
     "name": "stdout",
     "output_type": "stream",
     "text": [
      "The sum of the first 10 natural numbers is: 55\n",
      "The product of the first 10 natural numbers is: 3628800\n"
     ]
    }
   ],
   "source": [
    "'''Q2. Write a python program to print the sum and product of the first 10 natural numbers using for and while loop?\n",
    "Ans: Here's an example using a for loop to print the sum and product of the first 10 natural numbers:'''\n",
    "\n",
    "\n",
    "sum = 0\n",
    "product = 1\n",
    "i = 1\n",
    "\n",
    "while i <= 10:\n",
    "    sum += i\n",
    "    product *= i\n",
    "    i += 1\n",
    "\n",
    "print(\"The sum of the first 10 natural numbers is:\", sum)\n",
    "print(\"The product of the first 10 natural numbers is:\", product)\n"
   ]
  },
  {
   "cell_type": "code",
   "execution_count": 5,
   "id": "891e5eed-5c84-4581-8647-c22b117a4a75",
   "metadata": {},
   "outputs": [
    {
     "name": "stdin",
     "output_type": "stream",
     "text": [
      "Enter the units of electricity consumed:  56\n"
     ]
    },
    {
     "name": "stdout",
     "output_type": "stream",
     "text": [
      "The total electricity bill is: Rs. 252.0\n"
     ]
    }
   ],
   "source": [
    "# ans 4.\n",
    "\n",
    "units = int(input(\"Enter the units of electricity consumed: \"))\n",
    "\n",
    "if units <= 100:\n",
    "    bill = units * 4.5\n",
    "elif units <= 200:\n",
    "    bill = 100 * 4.5 + (units - 100) * 6\n",
    "elif units <= 300:\n",
    "    bill = 100 * 4.5 + 100 * 6 + (units - 200) * 10\n",
    "else:\n",
    "    bill = 100 * 4.5 + 100 * 6 + 100 * 10 + (units - 300) * 20\n",
    "\n",
    "print(\"The total electricity bill is: Rs.\", bill)\n"
   ]
  },
  {
   "cell_type": "code",
   "execution_count": null,
   "id": "7798cb42-93dc-4a5b-8074-e1400933a4b7",
   "metadata": {},
   "outputs": [],
   "source": [
    "#ans 5.\n",
    "\n",
    "string = \"I want to become a data scientist\"\n",
    "vowels = \"aeiouAEIOU\"\n",
    "count = 0\n",
    "\n",
    "for char in string:\n",
    "    if char in vowels:\n",
    "        count += 1\n",
    "\n",
    "print(\"The number of vowels in the string is:\", count)\n"
   ]
  }
 ],
 "metadata": {
  "kernelspec": {
   "display_name": "Python 3 (ipykernel)",
   "language": "python",
   "name": "python3"
  },
  "language_info": {
   "codemirror_mode": {
    "name": "ipython",
    "version": 3
   },
   "file_extension": ".py",
   "mimetype": "text/x-python",
   "name": "python",
   "nbconvert_exporter": "python",
   "pygments_lexer": "ipython3",
   "version": "3.10.8"
  }
 },
 "nbformat": 4,
 "nbformat_minor": 5
}
